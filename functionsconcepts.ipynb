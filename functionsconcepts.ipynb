{
 "cells": [
  {
   "cell_type": "code",
   "execution_count": 37,
   "metadata": {},
   "outputs": [
    {
     "ename": "TypeError",
     "evalue": "printval() missing 1 required positional argument: 'c'",
     "output_type": "error",
     "traceback": [
      "\u001b[0;31m---------------------------------------------------------------------------\u001b[0m",
      "\u001b[0;31mTypeError\u001b[0m                                 Traceback (most recent call last)",
      "\u001b[1;32m/home/developer/code/python-programs/functionsconcepts.ipynb Cell 1'\u001b[0m in \u001b[0;36m<module>\u001b[0;34m\u001b[0m\n\u001b[1;32m      <a href='vscode-notebook-cell:/home/developer/code/python-programs/functionsconcepts.ipynb#ch0000000?line=3'>4</a>\u001b[0m \u001b[39mdef\u001b[39;00m \u001b[39mprintval\u001b[39m(a,b,c):\n\u001b[1;32m      <a href='vscode-notebook-cell:/home/developer/code/python-programs/functionsconcepts.ipynb#ch0000000?line=4'>5</a>\u001b[0m     \u001b[39mprint\u001b[39m(a,b,c)\n\u001b[0;32m----> <a href='vscode-notebook-cell:/home/developer/code/python-programs/functionsconcepts.ipynb#ch0000000?line=5'>6</a>\u001b[0m printval(\u001b[39m10\u001b[39;49m,\u001b[39m20\u001b[39;49m)\n",
      "\u001b[0;31mTypeError\u001b[0m: printval() missing 1 required positional argument: 'c'"
     ]
    }
   ],
   "source": [
    "\n",
    "#this is gonna give error due to how many argument we declarecd we need to give them \n",
    "\n",
    "\n",
    "def printval(a,b,c):\n",
    "    print(a,b,c)\n",
    "printval(10,20)"
   ]
  },
  {
   "cell_type": "code",
   "execution_count": null,
   "metadata": {},
   "outputs": [
    {
     "name": "stdout",
     "output_type": "stream",
     "text": [
      "100 20 300\n"
     ]
    }
   ],
   "source": [
    "def printval(a,b,c):\n",
    "    print(a,b,c)\n",
    "printval(100,20,300)\n",
    "#this will run due to we passed req values"
   ]
  },
  {
   "cell_type": "code",
   "execution_count": null,
   "metadata": {},
   "outputs": [
    {
     "ename": "SyntaxError",
     "evalue": "non-default argument follows default argument (1493188546.py, line 1)",
     "output_type": "error",
     "traceback": [
      "\u001b[0;36m  Input \u001b[0;32mIn [3]\u001b[0;36m\u001b[0m\n\u001b[0;31m    def printval(a,b=20,c):\u001b[0m\n\u001b[0m                 ^\u001b[0m\n\u001b[0;31mSyntaxError\u001b[0m\u001b[0;31m:\u001b[0m non-default argument follows default argument\n"
     ]
    }
   ],
   "source": [
    "def printval(a,b=20,c):\n",
    "    print(a,b,c)\n",
    "printval(10,40)\n",
    "\n",
    "\n",
    "#this is gonna give us error due to default value should be the declared at the end or that variable sould be declared at the end of parameter"
   ]
  },
  {
   "cell_type": "code",
   "execution_count": null,
   "metadata": {},
   "outputs": [
    {
     "name": "stdout",
     "output_type": "stream",
     "text": [
      "50 200 100\n"
     ]
    }
   ],
   "source": [
    "def printval(a,c,b=200):\n",
    "    print(a,b,c)\n",
    "\n",
    "printval(50,100)\n",
    "\n",
    "#see this is worked"
   ]
  },
  {
   "cell_type": "code",
   "execution_count": 51,
   "metadata": {},
   "outputs": [
    {
     "name": "stdout",
     "output_type": "stream",
     "text": [
      "8\n"
     ]
    }
   ],
   "source": [
    "#lamda use\n",
    "n=lambda x:x*2\n",
    "print(n(4))"
   ]
  },
  {
   "cell_type": "code",
   "execution_count": 59,
   "metadata": {},
   "outputs": [
    {
     "name": "stdout",
     "output_type": "stream",
     "text": [
      "8\n"
     ]
    }
   ],
   "source": [
    "def multy(x):\n",
    "    return x*2\n",
    "print(multy(4))\n",
    "#normal method"
   ]
  },
  {
   "cell_type": "code",
   "execution_count": 68,
   "metadata": {},
   "outputs": [
    {
     "name": "stdout",
     "output_type": "stream",
     "text": [
      "36\n"
     ]
    }
   ],
   "source": [
    "#lamda use\n",
    "x=int(input(\"X \"))\n",
    "y=int(input(\"\\nY \"))\n",
    "n=lambda x,y:(x*x)+(y*y)+(2*x*y)\n",
    "print(n(x,y))"
   ]
  }
 ],
 "metadata": {
  "interpreter": {
   "hash": "916dbcbb3f70747c44a77c7bcd40155683ae19c65e1c03b4aa3499c5328201f1"
  },
  "kernelspec": {
   "display_name": "Python 3.8.10 64-bit",
   "language": "python",
   "name": "python3"
  },
  "language_info": {
   "codemirror_mode": {
    "name": "ipython",
    "version": 3
   },
   "file_extension": ".py",
   "mimetype": "text/x-python",
   "name": "python",
   "nbconvert_exporter": "python",
   "pygments_lexer": "ipython3",
   "version": "3.8.10"
  },
  "orig_nbformat": 4
 },
 "nbformat": 4,
 "nbformat_minor": 2
}
